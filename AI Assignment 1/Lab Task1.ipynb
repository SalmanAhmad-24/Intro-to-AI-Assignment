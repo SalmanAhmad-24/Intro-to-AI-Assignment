{
 "cells": [
  {
   "cell_type": "code",
   "execution_count": 1,
   "id": "c140e76c",
   "metadata": {},
   "outputs": [
    {
     "name": "stdout",
     "output_type": "stream",
     "text": [
      "3\n",
      "5\n",
      "7\n",
      "10\n",
      "12\n",
      "15\n",
      "17\n"
     ]
    }
   ],
   "source": [
    "class Node:\n",
    "    \n",
    "    def __init__(self, v):\n",
    "        self.val = v\n",
    "        self.left = None\n",
    "        self.right = None\n",
    "def inorder_traversal(node):\n",
    "        if node:\n",
    "        \n",
    "            inorder_traversal(node.left)\n",
    "            print(node.val)\n",
    "            inorder_traversal(node.right)\n",
    "\n",
    "        \n",
    "def insert( root, node):\n",
    "    \n",
    "    if root is None:\n",
    "        return node\n",
    "    \n",
    "    if root.val > node.val:\n",
    "        root.left = insert(root.left,node)\n",
    "\n",
    "    elif root.val < node.val:\n",
    "        root.right = insert(root.right,node)\n",
    "\n",
    "    return root\n",
    "\n",
    "val = [10,5,3,7,15,12,17]\n",
    "\n",
    "root = Node(val[0])\n",
    "\n",
    "for i in val:\n",
    "    insert(root,Node(i))\n",
    "    \n",
    "inorder_traversal(root)"
   ]
  },
  {
   "cell_type": "code",
   "execution_count": 2,
   "id": "ca4008e6",
   "metadata": {},
   "outputs": [
    {
     "name": "stdout",
     "output_type": "stream",
     "text": [
      "[10]\n",
      "POP:  10\n",
      "\n",
      "[5, 15]\n",
      "POP:  5\n",
      "\n",
      "[15, 3, 7]\n",
      "POP:  15\n",
      "\n",
      "[3, 7, 12, 17]\n",
      "POP:  3\n",
      "\n",
      "[7, 12, 17]\n",
      "POP:  7\n",
      "\n",
      "Result:   [10, 5, 15, 3, 7]\n"
     ]
    }
   ],
   "source": [
    "def BFS(goal):\n",
    "    explored = []\n",
    "    q = []\n",
    "    q.append(root)\n",
    "\n",
    "\n",
    "    while len(q)>0:\n",
    "\n",
    "        #print(q)\n",
    "        \n",
    "        qq = [i.val for i in q]\n",
    "        print(qq)\n",
    "        \n",
    "        node = q.pop(0)\n",
    "        \n",
    "        explored.append(node.val)\n",
    "        \n",
    "        print('POP: ',node.val)\n",
    "        print()\n",
    "\n",
    "        if node.val == goal:\n",
    "            print('Result:  ',explored)\n",
    "            break\n",
    "\n",
    "\n",
    "        if node.left is not None:\n",
    "            q.append(node.left)\n",
    "\n",
    "        if node.right is not None:\n",
    "            q.append(node.right)\n",
    "\n",
    "BFS(7)\n",
    "#[10,5,3,7,15,12,17]"
   ]
  },
  {
   "cell_type": "code",
   "execution_count": 3,
   "id": "b64b1b39",
   "metadata": {},
   "outputs": [
    {
     "name": "stdout",
     "output_type": "stream",
     "text": [
      "[10]\n",
      "POP:  10\n",
      "\n",
      "[5, 15]\n",
      "POP:  15\n",
      "\n",
      "[5, 12, 17]\n",
      "POP:  17\n",
      "\n",
      "[5, 12]\n",
      "POP:  12\n",
      "\n",
      "[5]\n",
      "POP:  5\n",
      "\n",
      "[3, 7]\n",
      "POP:  7\n",
      "\n",
      "Result:   [10, 15, 17, 12, 5, 7]\n"
     ]
    }
   ],
   "source": [
    "def DFS(goal):\n",
    "    explored = []\n",
    "    s = []\n",
    "    s.append(root)\n",
    "\n",
    "\n",
    "    while len(s)>0:\n",
    "\n",
    "        \n",
    "        \n",
    "        ss = [i.val for i in s]\n",
    "        print(ss)\n",
    "        \n",
    "        node = s.pop()\n",
    "        \n",
    "        explored.append(node.val)\n",
    "        \n",
    "        print('POP: ',node.val)\n",
    "        print()\n",
    "\n",
    "        if node.val == goal:\n",
    "            print('Result:  ',explored)\n",
    "            break\n",
    "            \n",
    "        if node.left is not None:\n",
    "            s.append(node.left)\n",
    "\n",
    "        if node.right is not None:\n",
    "            s.append(node.right)\n",
    "            \n",
    "      \n",
    "\n",
    "\n",
    "\n",
    "DFS(7)"
   ]
  },
  {
   "cell_type": "code",
   "execution_count": 4,
   "id": "0e003119",
   "metadata": {},
   "outputs": [
    {
     "name": "stdout",
     "output_type": "stream",
     "text": [
      "{'A', 'D', 'C', 'F', 'B', 'E'}\n"
     ]
    }
   ],
   "source": [
    "#now for graphs\n",
    "graph = {\n",
    "    'A': ['B', 'C'],\n",
    "    'B': ['D', 'E'],\n",
    "    'C': ['F'],\n",
    "    'D': [],\n",
    "    'E': ['F'],\n",
    "    'F': []\n",
    "}\n",
    "\n",
    "# define the bfs function\n",
    "def bfs(graph, start):\n",
    "    # keep track of visited nodes and queue of nodes to visit\n",
    "    visited = set()\n",
    "    queue = [start]\n",
    "    \n",
    "    # loop through the queue until it's empty\n",
    "    while queue:\n",
    "        # dequeue the first node in the queue\n",
    "        node = queue.pop(0)\n",
    "        # if the node hasn't been visited yet, mark it as visited and enqueue its neighbors\n",
    "        if node not in visited:\n",
    "            visited.add(node)\n",
    "            neighbors = graph[node]\n",
    "            for neighbor in neighbors:\n",
    "                queue.append(neighbor)\n",
    "    # return the visited nodes\n",
    "    return visited\n",
    "\n",
    "# test the bfs function\n",
    "start_node = 'A'\n",
    "print(bfs(graph, start_node))"
   ]
  },
  {
   "cell_type": "code",
   "execution_count": 5,
   "id": "79ecb11e",
   "metadata": {},
   "outputs": [
    {
     "name": "stdout",
     "output_type": "stream",
     "text": [
      "A\n",
      "C\n",
      "F\n",
      "B\n",
      "E\n",
      "D\n"
     ]
    },
    {
     "data": {
      "text/plain": [
       "{'A', 'B', 'C', 'D', 'E', 'F'}"
      ]
     },
     "execution_count": 5,
     "metadata": {},
     "output_type": "execute_result"
    }
   ],
   "source": [
    "graph = {\n",
    "    'A': ['B', 'C'],\n",
    "    'B': ['D', 'E'],\n",
    "    'C': ['F'],\n",
    "    'D': [],\n",
    "    'E': ['F'],\n",
    "    'F': []\n",
    "}\n",
    "\n",
    "def dfs(graph, start):\n",
    "    visited = set()  # keep track of visited nodes\n",
    "    stack = [start]  # initialize stack with starting node\n",
    "    \n",
    "    while stack:\n",
    "        node = stack.pop()  # get the next node from the stack\n",
    "        \n",
    "        if node not in visited:\n",
    "            visited.add(node)  # mark node as visited\n",
    "            print(node)  # do something with the node\n",
    "            \n",
    "            # add unvisited neighbors to the stack\n",
    "            stack.extend(neighbor for neighbor in graph[node] if neighbor not in visited)\n",
    "    \n",
    "    return visited\n",
    "dfs(graph, 'A')  # start DFS from node 'A'"
   ]
  },
  {
   "cell_type": "code",
   "execution_count": 6,
   "id": "e4689a91",
   "metadata": {},
   "outputs": [
    {
     "name": "stdout",
     "output_type": "stream",
     "text": [
      "['A', 'B', 'E', 'F']\n"
     ]
    }
   ],
   "source": [
    "graph = {\n",
    "    'A': ['B', 'C'],\n",
    "    'B': ['D', 'E'],\n",
    "    'C': ['F'],\n",
    "    'D': [],\n",
    "    'E': ['F'],\n",
    "    'F': []\n",
    "}\n",
    "\n",
    "def dfs_path(graph, start, goal, visited=None, path=None):\n",
    "    if visited is None:\n",
    "        visited = set()\n",
    "    if path is None:\n",
    "        path = []\n",
    "    visited.add(start)\n",
    "    path = path + [start]\n",
    "    if start == goal:\n",
    "        return path\n",
    "    for node in graph[start]:\n",
    "        if node not in visited:\n",
    "            new_path = dfs_path(graph, node, goal, visited, path)\n",
    "            if new_path:\n",
    "                return new_path\n",
    "    return None\n",
    "\n",
    "# Example usage:\n",
    "start_node = 'A'\n",
    "goal_node = 'F'\n",
    "path = dfs_path(graph, start_node, goal_node)\n",
    "print(path) # Output: ['A', 'C', 'F']\n"
   ]
  },
  {
   "cell_type": "code",
   "execution_count": 30,
   "id": "8800cf13",
   "metadata": {},
   "outputs": [
    {
     "name": "stdout",
     "output_type": "stream",
     "text": [
      "queue [['A']]\n",
      "visited set()\n",
      "['A']\n",
      "vv ['A']\n",
      "vv ['A']\n",
      "**********\n",
      "queue [['A', 'B'], ['A', 'C']]\n",
      "visited {'A'}\n",
      "['A', 'B']\n",
      "vv ['A', 'B']\n",
      "vv ['A', 'B']\n",
      "**********\n",
      "queue [['A', 'C'], ['A', 'B', 'D'], ['A', 'B', 'E']]\n",
      "visited {'A', 'B'}\n",
      "['A', 'C']\n",
      "vv ['A', 'C']\n",
      "**********\n",
      "queue [['A', 'B', 'D'], ['A', 'B', 'E'], ['A', 'C', 'F']]\n",
      "visited {'A', 'B', 'C'}\n",
      "['A', 'B', 'D']\n",
      "**********\n",
      "queue [['A', 'B', 'E'], ['A', 'C', 'F']]\n",
      "visited {'A', 'D', 'B', 'C'}\n",
      "['A', 'B', 'E']\n",
      "vv ['A', 'B', 'E']\n",
      "**********\n",
      "queue [['A', 'C', 'F'], ['A', 'B', 'E', 'F']]\n",
      "visited {'E', 'B', 'C', 'A', 'D'}\n",
      "['A', 'C', 'F']\n",
      "['A', 'C', 'F']\n"
     ]
    }
   ],
   "source": [
    "graph = {\n",
    "    'A': ['B', 'C'],\n",
    "    'B': ['D', 'E'],\n",
    "    'C': ['F'],\n",
    "    'D': [],\n",
    "    'E': ['F'],\n",
    "    'F': []\n",
    "}\n",
    "\n",
    "start_node = 'A'\n",
    "goal_node = 'F'\n",
    "\n",
    "def bfs(graph, start, goal):\n",
    "    queue = [[start]]\n",
    "    visited = set()\n",
    "  \n",
    "\n",
    "    while queue:\n",
    "        print(\"queue\",queue)\n",
    "        print('visited',visited)\n",
    "\n",
    "        path = queue.pop(0)\n",
    "        print(path)\n",
    "        node = path[-1]\n",
    "\n",
    "        if node == goal:\n",
    "            return path\n",
    "        \n",
    "        if node not in visited:\n",
    "            visited.add(node)\n",
    "\n",
    "            for neighbor in graph[node]:\n",
    "                print('vv',path)\n",
    "                new_path = list(path)\n",
    "                new_path.append(neighbor)\n",
    "                queue.append(new_path)\n",
    "           \n",
    "        print('*'*10)\n",
    "               \n",
    "path = bfs(graph, start_node, goal_node)\n",
    "\n",
    "print(path)"
   ]
  },
  {
   "cell_type": "code",
   "execution_count": 40,
   "id": "a86dcbfa",
   "metadata": {},
   "outputs": [
    {
     "name": "stdout",
     "output_type": "stream",
     "text": [
      "['a', 'b']\n",
      "b\n",
      "{'b'}\n",
      "m ['a', 'b']\n",
      "[['a', 'b']]\n",
      "[['a', 'b'], ['a', 'c']]\n"
     ]
    }
   ],
   "source": [
    "que=[['a','b']]\n",
    "visited=set()\n",
    "path=que.pop(0)\n",
    "print(path)\n",
    "node=path[-1]\n",
    "print(node)\n",
    "visited.add(node)\n",
    "print(visited)\n",
    "newpath=path\n",
    "print('m',newpath)\n",
    "que.append(newpath)\n",
    "newpath=['a','c']\n",
    "print(que)\n",
    "que.append(newpath)\n",
    "print(que)\n",
    "\n"
   ]
  },
  {
   "cell_type": "code",
   "execution_count": 35,
   "id": "607e5e1b",
   "metadata": {},
   "outputs": [
    {
     "name": "stdout",
     "output_type": "stream",
     "text": [
      "b\n",
      "['a']\n"
     ]
    }
   ],
   "source": [
    "path=['a']\n",
    "q=[['a','b'],['a','c']]\n",
    "print(q[0].pop())\n",
    "path=q.pop(0)\n",
    "print(path)"
   ]
  },
  {
   "cell_type": "code",
   "execution_count": null,
   "id": "e942f1ef",
   "metadata": {},
   "outputs": [],
   "source": []
  }
 ],
 "metadata": {
  "kernelspec": {
   "display_name": "Python 3 (ipykernel)",
   "language": "python",
   "name": "python3"
  },
  "language_info": {
   "codemirror_mode": {
    "name": "ipython",
    "version": 3
   },
   "file_extension": ".py",
   "mimetype": "text/x-python",
   "name": "python",
   "nbconvert_exporter": "python",
   "pygments_lexer": "ipython3",
   "version": "3.10.5"
  }
 },
 "nbformat": 4,
 "nbformat_minor": 5
}
